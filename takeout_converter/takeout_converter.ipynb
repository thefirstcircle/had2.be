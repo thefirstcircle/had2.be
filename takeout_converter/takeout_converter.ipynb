{
 "cells": [
  {
   "cell_type": "code",
   "execution_count": 11,
   "metadata": {},
   "outputs": [
    {
     "name": "stdout",
     "output_type": "stream",
     "text": [
      "JSON file created successfully for Had2.be Mockup.csv!\n",
      "All CSV files have been processed.\n"
     ]
    }
   ],
   "source": [
    "import pandas as pd\n",
    "import re\n",
    "import json\n",
    "import os\n",
    "\n",
    "# Directory where CSV files are located\n",
    "directory = '..\\\\takeout_converter\\\\data'\n",
    "\n",
    "# Function to extract latitude and longitude from the URL\n",
    "def extract_lat_lng(url):\n",
    "    match = re.search(r'search/([\\d.-]+),([\\d.-]+)', url)\n",
    "    if match:\n",
    "        return match.group(1), match.group(2)\n",
    "    return None, None\n",
    "\n",
    "# Process each CSV file in the directory\n",
    "for filename in os.listdir(directory):\n",
    "    if filename.endswith('.csv'):\n",
    "        file_path = os.path.join(directory, filename)\n",
    "\n",
    "        # Load the data\n",
    "        data = pd.read_csv(file_path)\n",
    "\n",
    "        # Apply function to each row and create new columns for latitude and longitude\n",
    "        data['lat'], data['lng'] = zip(*data['URL'].apply(extract_lat_lng))\n",
    "\n",
    "        # Create the final JSON structure\n",
    "        result = [\n",
    "            {\n",
    "                \"lat\": float(row['lat']),\n",
    "                \"lng\": float(row['lng']),\n",
    "                \"title\": row['Title'],\n",
    "                \"content\": f\"<h3>{row['Title']}</h3><p>{row['Note']}</p>\"\n",
    "            } for index, row in data.iterrows()\n",
    "        ]\n",
    "\n",
    "        # Output to a JSON file\n",
    "        output_file = f'{os.path.splitext(file_path)[0]}.json'\n",
    "        with open(output_file, 'w') as f:\n",
    "            json.dump(result, f, indent=4)\n",
    "\n",
    "        print(f\"JSON file created successfully for {filename}!\")\n",
    "\n",
    "print(\"All CSV files have been processed.\")\n"
   ]
  }
 ],
 "metadata": {
  "kernelspec": {
   "display_name": "Python 3",
   "language": "python",
   "name": "python3"
  },
  "language_info": {
   "codemirror_mode": {
    "name": "ipython",
    "version": 3
   },
   "file_extension": ".py",
   "mimetype": "text/x-python",
   "name": "python",
   "nbconvert_exporter": "python",
   "pygments_lexer": "ipython3",
   "version": "3.11.5"
  }
 },
 "nbformat": 4,
 "nbformat_minor": 2
}
